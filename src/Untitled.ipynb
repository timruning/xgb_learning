{
 "cells": [
  {
   "cell_type": "code",
   "execution_count": 1,
   "metadata": {
    "collapsed": true
   },
   "outputs": [],
   "source": [
    "import os\n",
    "import pandas as pd\n",
    "import numpy as np\n",
    "import xgboost as xgb"
   ]
  },
  {
   "cell_type": "code",
   "execution_count": 2,
   "metadata": {},
   "outputs": [
    {
     "name": "stdout",
     "output_type": "stream",
     "text": [
      "sample_submission.csv\t\t\t       test.csv\r\n",
      "santander-customer-transaction-prediction.zip  train.csv\r\n"
     ]
    }
   ],
   "source": [
    "!ls ../data/"
   ]
  },
  {
   "cell_type": "code",
   "execution_count": 3,
   "metadata": {
    "collapsed": true
   },
   "outputs": [],
   "source": [
    "df = pd.read_csv(\"../data/train.csv\")"
   ]
  },
  {
   "cell_type": "code",
   "execution_count": 4,
   "metadata": {},
   "outputs": [
    {
     "name": "stdout",
     "output_type": "stream",
     "text": [
      "0 object\n",
      "1 int64\n"
     ]
    }
   ],
   "source": [
    "for i,v in enumerate(df.dtypes):\n",
    "    if v!=np.float64:\n",
    "        print(i,v)"
   ]
  },
  {
   "cell_type": "code",
   "execution_count": 5,
   "metadata": {},
   "outputs": [
    {
     "data": {
      "text/html": [
       "<div>\n",
       "<style scoped>\n",
       "    .dataframe tbody tr th:only-of-type {\n",
       "        vertical-align: middle;\n",
       "    }\n",
       "\n",
       "    .dataframe tbody tr th {\n",
       "        vertical-align: top;\n",
       "    }\n",
       "\n",
       "    .dataframe thead th {\n",
       "        text-align: right;\n",
       "    }\n",
       "</style>\n",
       "<table border=\"1\" class=\"dataframe\">\n",
       "  <thead>\n",
       "    <tr style=\"text-align: right;\">\n",
       "      <th></th>\n",
       "      <th>ID_code</th>\n",
       "      <th>target</th>\n",
       "      <th>var_0</th>\n",
       "      <th>var_1</th>\n",
       "      <th>var_2</th>\n",
       "      <th>var_3</th>\n",
       "      <th>var_4</th>\n",
       "      <th>var_5</th>\n",
       "      <th>var_6</th>\n",
       "      <th>var_7</th>\n",
       "      <th>...</th>\n",
       "      <th>var_190</th>\n",
       "      <th>var_191</th>\n",
       "      <th>var_192</th>\n",
       "      <th>var_193</th>\n",
       "      <th>var_194</th>\n",
       "      <th>var_195</th>\n",
       "      <th>var_196</th>\n",
       "      <th>var_197</th>\n",
       "      <th>var_198</th>\n",
       "      <th>var_199</th>\n",
       "    </tr>\n",
       "  </thead>\n",
       "  <tbody>\n",
       "    <tr>\n",
       "      <th>0</th>\n",
       "      <td>train_0</td>\n",
       "      <td>0</td>\n",
       "      <td>8.9255</td>\n",
       "      <td>-6.7863</td>\n",
       "      <td>11.9081</td>\n",
       "      <td>5.0930</td>\n",
       "      <td>11.4607</td>\n",
       "      <td>-9.2834</td>\n",
       "      <td>5.1187</td>\n",
       "      <td>18.6266</td>\n",
       "      <td>...</td>\n",
       "      <td>4.4354</td>\n",
       "      <td>3.9642</td>\n",
       "      <td>3.1364</td>\n",
       "      <td>1.6910</td>\n",
       "      <td>18.5227</td>\n",
       "      <td>-2.3978</td>\n",
       "      <td>7.8784</td>\n",
       "      <td>8.5635</td>\n",
       "      <td>12.7803</td>\n",
       "      <td>-1.0914</td>\n",
       "    </tr>\n",
       "    <tr>\n",
       "      <th>1</th>\n",
       "      <td>train_1</td>\n",
       "      <td>0</td>\n",
       "      <td>11.5006</td>\n",
       "      <td>-4.1473</td>\n",
       "      <td>13.8588</td>\n",
       "      <td>5.3890</td>\n",
       "      <td>12.3622</td>\n",
       "      <td>7.0433</td>\n",
       "      <td>5.6208</td>\n",
       "      <td>16.5338</td>\n",
       "      <td>...</td>\n",
       "      <td>7.6421</td>\n",
       "      <td>7.7214</td>\n",
       "      <td>2.5837</td>\n",
       "      <td>10.9516</td>\n",
       "      <td>15.4305</td>\n",
       "      <td>2.0339</td>\n",
       "      <td>8.1267</td>\n",
       "      <td>8.7889</td>\n",
       "      <td>18.3560</td>\n",
       "      <td>1.9518</td>\n",
       "    </tr>\n",
       "    <tr>\n",
       "      <th>2</th>\n",
       "      <td>train_2</td>\n",
       "      <td>0</td>\n",
       "      <td>8.6093</td>\n",
       "      <td>-2.7457</td>\n",
       "      <td>12.0805</td>\n",
       "      <td>7.8928</td>\n",
       "      <td>10.5825</td>\n",
       "      <td>-9.0837</td>\n",
       "      <td>6.9427</td>\n",
       "      <td>14.6155</td>\n",
       "      <td>...</td>\n",
       "      <td>2.9057</td>\n",
       "      <td>9.7905</td>\n",
       "      <td>1.6704</td>\n",
       "      <td>1.6858</td>\n",
       "      <td>21.6042</td>\n",
       "      <td>3.1417</td>\n",
       "      <td>-6.5213</td>\n",
       "      <td>8.2675</td>\n",
       "      <td>14.7222</td>\n",
       "      <td>0.3965</td>\n",
       "    </tr>\n",
       "    <tr>\n",
       "      <th>3</th>\n",
       "      <td>train_3</td>\n",
       "      <td>0</td>\n",
       "      <td>11.0604</td>\n",
       "      <td>-2.1518</td>\n",
       "      <td>8.9522</td>\n",
       "      <td>7.1957</td>\n",
       "      <td>12.5846</td>\n",
       "      <td>-1.8361</td>\n",
       "      <td>5.8428</td>\n",
       "      <td>14.9250</td>\n",
       "      <td>...</td>\n",
       "      <td>4.4666</td>\n",
       "      <td>4.7433</td>\n",
       "      <td>0.7178</td>\n",
       "      <td>1.4214</td>\n",
       "      <td>23.0347</td>\n",
       "      <td>-1.2706</td>\n",
       "      <td>-2.9275</td>\n",
       "      <td>10.2922</td>\n",
       "      <td>17.9697</td>\n",
       "      <td>-8.9996</td>\n",
       "    </tr>\n",
       "    <tr>\n",
       "      <th>4</th>\n",
       "      <td>train_4</td>\n",
       "      <td>0</td>\n",
       "      <td>9.8369</td>\n",
       "      <td>-1.4834</td>\n",
       "      <td>12.8746</td>\n",
       "      <td>6.6375</td>\n",
       "      <td>12.2772</td>\n",
       "      <td>2.4486</td>\n",
       "      <td>5.9405</td>\n",
       "      <td>19.2514</td>\n",
       "      <td>...</td>\n",
       "      <td>-1.4905</td>\n",
       "      <td>9.5214</td>\n",
       "      <td>-0.1508</td>\n",
       "      <td>9.1942</td>\n",
       "      <td>13.2876</td>\n",
       "      <td>-1.5121</td>\n",
       "      <td>3.9267</td>\n",
       "      <td>9.5031</td>\n",
       "      <td>17.9974</td>\n",
       "      <td>-8.8104</td>\n",
       "    </tr>\n",
       "  </tbody>\n",
       "</table>\n",
       "<p>5 rows × 202 columns</p>\n",
       "</div>"
      ],
      "text/plain": [
       "   ID_code  target    var_0   var_1    var_2   var_3    var_4   var_5   var_6  \\\n",
       "0  train_0       0   8.9255 -6.7863  11.9081  5.0930  11.4607 -9.2834  5.1187   \n",
       "1  train_1       0  11.5006 -4.1473  13.8588  5.3890  12.3622  7.0433  5.6208   \n",
       "2  train_2       0   8.6093 -2.7457  12.0805  7.8928  10.5825 -9.0837  6.9427   \n",
       "3  train_3       0  11.0604 -2.1518   8.9522  7.1957  12.5846 -1.8361  5.8428   \n",
       "4  train_4       0   9.8369 -1.4834  12.8746  6.6375  12.2772  2.4486  5.9405   \n",
       "\n",
       "     var_7  ...  var_190  var_191  var_192  var_193  var_194  var_195  \\\n",
       "0  18.6266  ...   4.4354   3.9642   3.1364   1.6910  18.5227  -2.3978   \n",
       "1  16.5338  ...   7.6421   7.7214   2.5837  10.9516  15.4305   2.0339   \n",
       "2  14.6155  ...   2.9057   9.7905   1.6704   1.6858  21.6042   3.1417   \n",
       "3  14.9250  ...   4.4666   4.7433   0.7178   1.4214  23.0347  -1.2706   \n",
       "4  19.2514  ...  -1.4905   9.5214  -0.1508   9.1942  13.2876  -1.5121   \n",
       "\n",
       "   var_196  var_197  var_198  var_199  \n",
       "0   7.8784   8.5635  12.7803  -1.0914  \n",
       "1   8.1267   8.7889  18.3560   1.9518  \n",
       "2  -6.5213   8.2675  14.7222   0.3965  \n",
       "3  -2.9275  10.2922  17.9697  -8.9996  \n",
       "4   3.9267   9.5031  17.9974  -8.8104  \n",
       "\n",
       "[5 rows x 202 columns]"
      ]
     },
     "execution_count": 5,
     "metadata": {},
     "output_type": "execute_result"
    }
   ],
   "source": [
    "df.head()"
   ]
  },
  {
   "cell_type": "code",
   "execution_count": 6,
   "metadata": {
    "collapsed": true
   },
   "outputs": [],
   "source": [
    "Y = df[\"target\"]\n",
    "X= df.drop([\"ID_code\",\"target\"],axis=1)"
   ]
  },
  {
   "cell_type": "code",
   "execution_count": 7,
   "metadata": {
    "collapsed": true
   },
   "outputs": [],
   "source": [
    "y_test,y_train = Y[:20000],Y[20000:]\n",
    "x_test,x_train = X[:20000],X[20000:]"
   ]
  },
  {
   "cell_type": "code",
   "execution_count": 8,
   "metadata": {},
   "outputs": [
    {
     "name": "stdout",
     "output_type": "stream",
     "text": [
      "X shape: (200000, 200)\n",
      "Y: {0, 1}\n"
     ]
    },
    {
     "data": {
      "text/html": [
       "<div>\n",
       "<style scoped>\n",
       "    .dataframe tbody tr th:only-of-type {\n",
       "        vertical-align: middle;\n",
       "    }\n",
       "\n",
       "    .dataframe tbody tr th {\n",
       "        vertical-align: top;\n",
       "    }\n",
       "\n",
       "    .dataframe thead th {\n",
       "        text-align: right;\n",
       "    }\n",
       "</style>\n",
       "<table border=\"1\" class=\"dataframe\">\n",
       "  <thead>\n",
       "    <tr style=\"text-align: right;\">\n",
       "      <th></th>\n",
       "      <th>var_0</th>\n",
       "      <th>var_1</th>\n",
       "      <th>var_2</th>\n",
       "      <th>var_3</th>\n",
       "      <th>var_4</th>\n",
       "      <th>var_5</th>\n",
       "      <th>var_6</th>\n",
       "      <th>var_7</th>\n",
       "      <th>var_8</th>\n",
       "      <th>var_9</th>\n",
       "      <th>...</th>\n",
       "      <th>var_190</th>\n",
       "      <th>var_191</th>\n",
       "      <th>var_192</th>\n",
       "      <th>var_193</th>\n",
       "      <th>var_194</th>\n",
       "      <th>var_195</th>\n",
       "      <th>var_196</th>\n",
       "      <th>var_197</th>\n",
       "      <th>var_198</th>\n",
       "      <th>var_199</th>\n",
       "    </tr>\n",
       "  </thead>\n",
       "  <tbody>\n",
       "    <tr>\n",
       "      <th>0</th>\n",
       "      <td>8.9255</td>\n",
       "      <td>-6.7863</td>\n",
       "      <td>11.9081</td>\n",
       "      <td>5.0930</td>\n",
       "      <td>11.4607</td>\n",
       "      <td>-9.2834</td>\n",
       "      <td>5.1187</td>\n",
       "      <td>18.6266</td>\n",
       "      <td>-4.9200</td>\n",
       "      <td>5.7470</td>\n",
       "      <td>...</td>\n",
       "      <td>4.4354</td>\n",
       "      <td>3.9642</td>\n",
       "      <td>3.1364</td>\n",
       "      <td>1.6910</td>\n",
       "      <td>18.5227</td>\n",
       "      <td>-2.3978</td>\n",
       "      <td>7.8784</td>\n",
       "      <td>8.5635</td>\n",
       "      <td>12.7803</td>\n",
       "      <td>-1.0914</td>\n",
       "    </tr>\n",
       "    <tr>\n",
       "      <th>1</th>\n",
       "      <td>11.5006</td>\n",
       "      <td>-4.1473</td>\n",
       "      <td>13.8588</td>\n",
       "      <td>5.3890</td>\n",
       "      <td>12.3622</td>\n",
       "      <td>7.0433</td>\n",
       "      <td>5.6208</td>\n",
       "      <td>16.5338</td>\n",
       "      <td>3.1468</td>\n",
       "      <td>8.0851</td>\n",
       "      <td>...</td>\n",
       "      <td>7.6421</td>\n",
       "      <td>7.7214</td>\n",
       "      <td>2.5837</td>\n",
       "      <td>10.9516</td>\n",
       "      <td>15.4305</td>\n",
       "      <td>2.0339</td>\n",
       "      <td>8.1267</td>\n",
       "      <td>8.7889</td>\n",
       "      <td>18.3560</td>\n",
       "      <td>1.9518</td>\n",
       "    </tr>\n",
       "    <tr>\n",
       "      <th>2</th>\n",
       "      <td>8.6093</td>\n",
       "      <td>-2.7457</td>\n",
       "      <td>12.0805</td>\n",
       "      <td>7.8928</td>\n",
       "      <td>10.5825</td>\n",
       "      <td>-9.0837</td>\n",
       "      <td>6.9427</td>\n",
       "      <td>14.6155</td>\n",
       "      <td>-4.9193</td>\n",
       "      <td>5.9525</td>\n",
       "      <td>...</td>\n",
       "      <td>2.9057</td>\n",
       "      <td>9.7905</td>\n",
       "      <td>1.6704</td>\n",
       "      <td>1.6858</td>\n",
       "      <td>21.6042</td>\n",
       "      <td>3.1417</td>\n",
       "      <td>-6.5213</td>\n",
       "      <td>8.2675</td>\n",
       "      <td>14.7222</td>\n",
       "      <td>0.3965</td>\n",
       "    </tr>\n",
       "    <tr>\n",
       "      <th>3</th>\n",
       "      <td>11.0604</td>\n",
       "      <td>-2.1518</td>\n",
       "      <td>8.9522</td>\n",
       "      <td>7.1957</td>\n",
       "      <td>12.5846</td>\n",
       "      <td>-1.8361</td>\n",
       "      <td>5.8428</td>\n",
       "      <td>14.9250</td>\n",
       "      <td>-5.8609</td>\n",
       "      <td>8.2450</td>\n",
       "      <td>...</td>\n",
       "      <td>4.4666</td>\n",
       "      <td>4.7433</td>\n",
       "      <td>0.7178</td>\n",
       "      <td>1.4214</td>\n",
       "      <td>23.0347</td>\n",
       "      <td>-1.2706</td>\n",
       "      <td>-2.9275</td>\n",
       "      <td>10.2922</td>\n",
       "      <td>17.9697</td>\n",
       "      <td>-8.9996</td>\n",
       "    </tr>\n",
       "    <tr>\n",
       "      <th>4</th>\n",
       "      <td>9.8369</td>\n",
       "      <td>-1.4834</td>\n",
       "      <td>12.8746</td>\n",
       "      <td>6.6375</td>\n",
       "      <td>12.2772</td>\n",
       "      <td>2.4486</td>\n",
       "      <td>5.9405</td>\n",
       "      <td>19.2514</td>\n",
       "      <td>6.2654</td>\n",
       "      <td>7.6784</td>\n",
       "      <td>...</td>\n",
       "      <td>-1.4905</td>\n",
       "      <td>9.5214</td>\n",
       "      <td>-0.1508</td>\n",
       "      <td>9.1942</td>\n",
       "      <td>13.2876</td>\n",
       "      <td>-1.5121</td>\n",
       "      <td>3.9267</td>\n",
       "      <td>9.5031</td>\n",
       "      <td>17.9974</td>\n",
       "      <td>-8.8104</td>\n",
       "    </tr>\n",
       "  </tbody>\n",
       "</table>\n",
       "<p>5 rows × 200 columns</p>\n",
       "</div>"
      ],
      "text/plain": [
       "     var_0   var_1    var_2   var_3    var_4   var_5   var_6    var_7   var_8  \\\n",
       "0   8.9255 -6.7863  11.9081  5.0930  11.4607 -9.2834  5.1187  18.6266 -4.9200   \n",
       "1  11.5006 -4.1473  13.8588  5.3890  12.3622  7.0433  5.6208  16.5338  3.1468   \n",
       "2   8.6093 -2.7457  12.0805  7.8928  10.5825 -9.0837  6.9427  14.6155 -4.9193   \n",
       "3  11.0604 -2.1518   8.9522  7.1957  12.5846 -1.8361  5.8428  14.9250 -5.8609   \n",
       "4   9.8369 -1.4834  12.8746  6.6375  12.2772  2.4486  5.9405  19.2514  6.2654   \n",
       "\n",
       "    var_9  ...  var_190  var_191  var_192  var_193  var_194  var_195  var_196  \\\n",
       "0  5.7470  ...   4.4354   3.9642   3.1364   1.6910  18.5227  -2.3978   7.8784   \n",
       "1  8.0851  ...   7.6421   7.7214   2.5837  10.9516  15.4305   2.0339   8.1267   \n",
       "2  5.9525  ...   2.9057   9.7905   1.6704   1.6858  21.6042   3.1417  -6.5213   \n",
       "3  8.2450  ...   4.4666   4.7433   0.7178   1.4214  23.0347  -1.2706  -2.9275   \n",
       "4  7.6784  ...  -1.4905   9.5214  -0.1508   9.1942  13.2876  -1.5121   3.9267   \n",
       "\n",
       "   var_197  var_198  var_199  \n",
       "0   8.5635  12.7803  -1.0914  \n",
       "1   8.7889  18.3560   1.9518  \n",
       "2   8.2675  14.7222   0.3965  \n",
       "3  10.2922  17.9697  -8.9996  \n",
       "4   9.5031  17.9974  -8.8104  \n",
       "\n",
       "[5 rows x 200 columns]"
      ]
     },
     "execution_count": 8,
     "metadata": {},
     "output_type": "execute_result"
    }
   ],
   "source": [
    "print(\"X shape:\",X.shape)\n",
    "print(\"Y:\",set(Y))\n",
    "X.head()"
   ]
  },
  {
   "cell_type": "code",
   "execution_count": 9,
   "metadata": {
    "collapsed": true
   },
   "outputs": [],
   "source": [
    "import matplotlib.pyplot as plt"
   ]
  },
  {
   "cell_type": "code",
   "execution_count": 15,
   "metadata": {},
   "outputs": [
    {
     "name": "stderr",
     "output_type": "stream",
     "text": [
      "/home/timruning/anaconda3/envs/tensorflow/lib/python3.6/site-packages/xgboost/core.py:587: FutureWarning: Series.base is deprecated and will be removed in a future version\n",
      "  if getattr(data, 'base', None) is not None and \\\n",
      "/home/timruning/anaconda3/envs/tensorflow/lib/python3.6/site-packages/xgboost/core.py:588: FutureWarning: Series.base is deprecated and will be removed in a future version\n",
      "  data.base is not None and isinstance(data, np.ndarray) \\\n"
     ]
    }
   ],
   "source": [
    "xgmat = xgb.DMatrix( x_train, label=y_train, missing = -999.0)"
   ]
  },
  {
   "cell_type": "code",
   "execution_count": 17,
   "metadata": {
    "collapsed": true
   },
   "outputs": [],
   "source": [
    "num_round = 120"
   ]
  },
  {
   "cell_type": "code",
   "execution_count": 16,
   "metadata": {},
   "outputs": [],
   "source": [
    "# setup parameters for xgboost\n",
    "param = {}\n",
    "# use logistic regression loss, use raw prediction before logistic transformation\n",
    "# since we only need the rank\n",
    "param['objective'] = 'binary:logitraw'\n",
    "# scale weight of positive examples\n",
    "param['eta'] = 0.1\n",
    "param['max_depth'] = 6\n",
    "param['eval_metric'] = 'auc'\n",
    "param['silent'] = 1\n",
    "param['nthread'] = 16\n",
    "plst = list(param.items())+[('eval_metric', 'ams@0.15')]\n",
    "watchlist = [ (xgmat,'train') ]\n"
   ]
  },
  {
   "cell_type": "code",
   "execution_count": 19,
   "metadata": {},
   "outputs": [
    {
     "name": "stdout",
     "output_type": "stream",
     "text": [
      "[0]\ttrain-auc:0.652821\ttrain-ams@0.15:38.4051\n",
      "[1]\ttrain-auc:0.68004\ttrain-ams@0.15:44.7299\n",
      "[2]\ttrain-auc:0.693187\ttrain-ams@0.15:45.6464\n",
      "[3]\ttrain-auc:0.704043\ttrain-ams@0.15:47.7225\n",
      "[4]\ttrain-auc:0.713219\ttrain-ams@0.15:49.1402\n",
      "[5]\ttrain-auc:0.721954\ttrain-ams@0.15:49.9016\n",
      "[6]\ttrain-auc:0.727955\ttrain-ams@0.15:51.0678\n",
      "[7]\ttrain-auc:0.736207\ttrain-ams@0.15:52.5765\n",
      "[8]\ttrain-auc:0.74235\ttrain-ams@0.15:53.6036\n",
      "[9]\ttrain-auc:0.750569\ttrain-ams@0.15:54.7669\n",
      "[10]\ttrain-auc:0.757095\ttrain-ams@0.15:56.193\n",
      "[11]\ttrain-auc:0.763958\ttrain-ams@0.15:58.1855\n",
      "[12]\ttrain-auc:0.766332\ttrain-ams@0.15:58.8223\n",
      "[13]\ttrain-auc:0.7759\ttrain-ams@0.15:60.7444\n",
      "[14]\ttrain-auc:0.778421\ttrain-ams@0.15:61.74\n",
      "[15]\ttrain-auc:0.783894\ttrain-ams@0.15:62.8206\n",
      "[16]\ttrain-auc:0.793743\ttrain-ams@0.15:64.6503\n",
      "[17]\ttrain-auc:0.799147\ttrain-ams@0.15:66.2188\n",
      "[18]\ttrain-auc:0.803384\ttrain-ams@0.15:67.5527\n",
      "[19]\ttrain-auc:0.806422\ttrain-ams@0.15:68.013\n",
      "[20]\ttrain-auc:0.810192\ttrain-ams@0.15:69.0193\n",
      "[21]\ttrain-auc:0.811977\ttrain-ams@0.15:69.6819\n",
      "[22]\ttrain-auc:0.817371\ttrain-ams@0.15:71.4064\n",
      "[23]\ttrain-auc:0.821233\ttrain-ams@0.15:72.1859\n",
      "[24]\ttrain-auc:0.825771\ttrain-ams@0.15:73.2805\n",
      "[25]\ttrain-auc:0.829142\ttrain-ams@0.15:74.1097\n",
      "[26]\ttrain-auc:0.832549\ttrain-ams@0.15:74.9252\n",
      "[27]\ttrain-auc:0.835413\ttrain-ams@0.15:75.5987\n",
      "[28]\ttrain-auc:0.838036\ttrain-ams@0.15:76.5747\n",
      "[29]\ttrain-auc:0.840662\ttrain-ams@0.15:77.4692\n",
      "[30]\ttrain-auc:0.844422\ttrain-ams@0.15:78.5236\n",
      "[31]\ttrain-auc:0.847542\ttrain-ams@0.15:79.2964\n",
      "[32]\ttrain-auc:0.849951\ttrain-ams@0.15:79.819\n",
      "[33]\ttrain-auc:0.85316\ttrain-ams@0.15:80.7106\n",
      "[34]\ttrain-auc:0.855869\ttrain-ams@0.15:81.2194\n",
      "[35]\ttrain-auc:0.858914\ttrain-ams@0.15:81.8088\n",
      "[36]\ttrain-auc:0.861707\ttrain-ams@0.15:82.8688\n",
      "[37]\ttrain-auc:0.863673\ttrain-ams@0.15:83.5253\n",
      "[38]\ttrain-auc:0.866736\ttrain-ams@0.15:84.3624\n",
      "[39]\ttrain-auc:0.868326\ttrain-ams@0.15:84.7912\n",
      "[40]\ttrain-auc:0.870667\ttrain-ams@0.15:85.6966\n",
      "[41]\ttrain-auc:0.87224\ttrain-ams@0.15:86.3176\n",
      "[42]\ttrain-auc:0.874543\ttrain-ams@0.15:87.0038\n",
      "[43]\ttrain-auc:0.876601\ttrain-ams@0.15:87.5292\n",
      "[44]\ttrain-auc:0.878754\ttrain-ams@0.15:88.156\n",
      "[45]\ttrain-auc:0.880847\ttrain-ams@0.15:88.502\n",
      "[46]\ttrain-auc:0.882792\ttrain-ams@0.15:89.2143\n",
      "[47]\ttrain-auc:0.884374\ttrain-ams@0.15:89.8007\n",
      "[48]\ttrain-auc:0.886239\ttrain-ams@0.15:90.6283\n",
      "[49]\ttrain-auc:0.888477\ttrain-ams@0.15:91.2097\n",
      "[50]\ttrain-auc:0.889984\ttrain-ams@0.15:91.7373\n",
      "[51]\ttrain-auc:0.891383\ttrain-ams@0.15:92.3965\n",
      "[52]\ttrain-auc:0.89313\ttrain-ams@0.15:93.0486\n",
      "[53]\ttrain-auc:0.894052\ttrain-ams@0.15:93.469\n",
      "[54]\ttrain-auc:0.895719\ttrain-ams@0.15:93.8621\n",
      "[55]\ttrain-auc:0.897093\ttrain-ams@0.15:94.228\n",
      "[56]\ttrain-auc:0.898774\ttrain-ams@0.15:94.9806\n",
      "[57]\ttrain-auc:0.900219\ttrain-ams@0.15:95.4525\n",
      "[58]\ttrain-auc:0.901885\ttrain-ams@0.15:96.0203\n",
      "[59]\ttrain-auc:0.903233\ttrain-ams@0.15:96.5328\n",
      "[60]\ttrain-auc:0.904476\ttrain-ams@0.15:97.1134\n",
      "[61]\ttrain-auc:0.90626\ttrain-ams@0.15:97.5428\n",
      "[62]\ttrain-auc:0.907912\ttrain-ams@0.15:98.1552\n",
      "[63]\ttrain-auc:0.909024\ttrain-ams@0.15:98.712\n",
      "[64]\ttrain-auc:0.91032\ttrain-ams@0.15:99.1354\n",
      "[65]\ttrain-auc:0.911567\ttrain-ams@0.15:99.5984\n",
      "[66]\ttrain-auc:0.912758\ttrain-ams@0.15:99.9368\n",
      "[67]\ttrain-auc:0.914025\ttrain-ams@0.15:100.373\n",
      "[68]\ttrain-auc:0.914931\ttrain-ams@0.15:100.596\n",
      "[69]\ttrain-auc:0.916091\ttrain-ams@0.15:101.121\n",
      "[70]\ttrain-auc:0.916992\ttrain-ams@0.15:101.403\n",
      "[71]\ttrain-auc:0.918016\ttrain-ams@0.15:101.941\n",
      "[72]\ttrain-auc:0.918609\ttrain-ams@0.15:102.283\n",
      "[73]\ttrain-auc:0.919879\ttrain-ams@0.15:102.783\n",
      "[74]\ttrain-auc:0.920907\ttrain-ams@0.15:103.078\n",
      "[75]\ttrain-auc:0.921898\ttrain-ams@0.15:103.561\n",
      "[76]\ttrain-auc:0.922822\ttrain-ams@0.15:104.095\n",
      "[77]\ttrain-auc:0.92376\ttrain-ams@0.15:104.421\n",
      "[78]\ttrain-auc:0.924353\ttrain-ams@0.15:104.709\n",
      "[79]\ttrain-auc:0.924718\ttrain-ams@0.15:105.146\n",
      "[80]\ttrain-auc:0.925597\ttrain-ams@0.15:105.525\n",
      "[81]\ttrain-auc:0.926448\ttrain-ams@0.15:105.894\n",
      "[82]\ttrain-auc:0.927063\ttrain-ams@0.15:106.414\n",
      "[83]\ttrain-auc:0.928041\ttrain-ams@0.15:106.915\n",
      "[84]\ttrain-auc:0.928634\ttrain-ams@0.15:107.197\n",
      "[85]\ttrain-auc:0.929326\ttrain-ams@0.15:107.318\n",
      "[86]\ttrain-auc:0.930209\ttrain-ams@0.15:107.731\n",
      "[87]\ttrain-auc:0.931033\ttrain-ams@0.15:108.125\n",
      "[88]\ttrain-auc:0.931723\ttrain-ams@0.15:108.347\n",
      "[89]\ttrain-auc:0.932783\ttrain-ams@0.15:108.925\n",
      "[90]\ttrain-auc:0.933248\ttrain-ams@0.15:109.271\n",
      "[91]\ttrain-auc:0.93394\ttrain-ams@0.15:109.607\n",
      "[92]\ttrain-auc:0.934683\ttrain-ams@0.15:109.964\n",
      "[93]\ttrain-auc:0.935347\ttrain-ams@0.15:110.229\n",
      "[94]\ttrain-auc:0.936039\ttrain-ams@0.15:110.567\n",
      "[95]\ttrain-auc:0.936828\ttrain-ams@0.15:110.813\n",
      "[96]\ttrain-auc:0.937205\ttrain-ams@0.15:110.926\n",
      "[97]\ttrain-auc:0.937882\ttrain-ams@0.15:111.337\n",
      "[98]\ttrain-auc:0.9387\ttrain-ams@0.15:111.667\n",
      "[99]\ttrain-auc:0.939018\ttrain-ams@0.15:112.111\n",
      "[100]\ttrain-auc:0.939604\ttrain-ams@0.15:112.431\n",
      "[101]\ttrain-auc:0.940572\ttrain-ams@0.15:112.918\n",
      "[102]\ttrain-auc:0.941197\ttrain-ams@0.15:113.147\n",
      "[103]\ttrain-auc:0.941934\ttrain-ams@0.15:113.563\n",
      "[104]\ttrain-auc:0.942465\ttrain-ams@0.15:113.667\n",
      "[105]\ttrain-auc:0.943396\ttrain-ams@0.15:114.199\n",
      "[106]\ttrain-auc:0.943995\ttrain-ams@0.15:114.168\n",
      "[107]\ttrain-auc:0.944636\ttrain-ams@0.15:114.607\n",
      "[108]\ttrain-auc:0.945249\ttrain-ams@0.15:114.859\n",
      "[109]\ttrain-auc:0.945728\ttrain-ams@0.15:115.111\n",
      "[110]\ttrain-auc:0.946213\ttrain-ams@0.15:115.332\n",
      "[111]\ttrain-auc:0.946681\ttrain-ams@0.15:115.574\n",
      "[112]\ttrain-auc:0.947274\ttrain-ams@0.15:116.112\n",
      "[113]\ttrain-auc:0.94769\ttrain-ams@0.15:116.291\n",
      "[114]\ttrain-auc:0.948155\ttrain-ams@0.15:116.577\n",
      "[115]\ttrain-auc:0.948526\ttrain-ams@0.15:116.736\n",
      "[116]\ttrain-auc:0.948794\ttrain-ams@0.15:116.831\n",
      "[117]\ttrain-auc:0.949257\ttrain-ams@0.15:117.235\n",
      "[118]\ttrain-auc:0.949753\ttrain-ams@0.15:117.522\n",
      "[119]\ttrain-auc:0.950178\ttrain-ams@0.15:117.853\n"
     ]
    }
   ],
   "source": [
    "gbm = xgb.train(plst, xgmat, num_round, watchlist)"
   ]
  },
  {
   "cell_type": "code",
   "execution_count": 36,
   "metadata": {},
   "outputs": [],
   "source": [
    "X_test = xgb.DMatrix(x_test)"
   ]
  },
  {
   "cell_type": "code",
   "execution_count": 61,
   "metadata": {},
   "outputs": [],
   "source": [
    "y_pre = gbm.predict(X_test)"
   ]
  },
  {
   "cell_type": "code",
   "execution_count": 63,
   "metadata": {},
   "outputs": [
    {
     "data": {
      "text/plain": [
       "array([-3.353394 , -2.0628173, -3.2278404, ..., -3.7249866, -3.0541909,\n",
       "       -3.2806456], dtype=float32)"
      ]
     },
     "execution_count": 63,
     "metadata": {},
     "output_type": "execute_result"
    }
   ],
   "source": [
    "y_pre"
   ]
  },
  {
   "cell_type": "code",
   "execution_count": 51,
   "metadata": {
    "collapsed": true
   },
   "outputs": [],
   "source": [
    "from sklearn.metrics import mean_squared_error\n",
    "from sklearn.metrics import roc_auc_score"
   ]
  },
  {
   "cell_type": "code",
   "execution_count": 52,
   "metadata": {},
   "outputs": [
    {
     "data": {
      "text/plain": [
       "7.731738758521038"
      ]
     },
     "execution_count": 52,
     "metadata": {},
     "output_type": "execute_result"
    }
   ],
   "source": [
    "mean_squared_error(y_test,y_pre)"
   ]
  },
  {
   "cell_type": "code",
   "execution_count": 53,
   "metadata": {},
   "outputs": [
    {
     "data": {
      "text/plain": [
       "0.8516074319772978"
      ]
     },
     "execution_count": 53,
     "metadata": {},
     "output_type": "execute_result"
    }
   ],
   "source": [
    "roc_auc_score(y_test,y_pre)"
   ]
  },
  {
   "cell_type": "code",
   "execution_count": null,
   "metadata": {
    "collapsed": true
   },
   "outputs": [],
   "source": [
    "params_sklearn = {\n",
    "    'learning_rate':0.1,\n",
    "    'max_bin':150,\n",
    "    'num_leaves':32,    \n",
    "    'max_depth':11,\n",
    "    \n",
    "    'reg_alpha':0.1,\n",
    "    'reg_lambda':0.2,   \n",
    "     \n",
    "    'objective':'binary',\n",
    "    'n_estimators':300,\n",
    "    #'class_weight':weight\n",
    "}"
   ]
  },
  {
   "cell_type": "code",
   "execution_count": 70,
   "metadata": {},
   "outputs": [],
   "source": [
    "gbm1 = xgb.XGBClassifier(**params_sklearn).fit(x_train,y_train)"
   ]
  },
  {
   "cell_type": "code",
   "execution_count": 71,
   "metadata": {
    "collapsed": true
   },
   "outputs": [],
   "source": [
    "y_pre = gbm1.predict(x_test)"
   ]
  },
  {
   "cell_type": "code",
   "execution_count": 72,
   "metadata": {},
   "outputs": [
    {
     "data": {
      "text/plain": [
       "0.08165"
      ]
     },
     "execution_count": 72,
     "metadata": {},
     "output_type": "execute_result"
    }
   ],
   "source": [
    "mean_squared_error(y_test,y_pre)"
   ]
  },
  {
   "cell_type": "code",
   "execution_count": 73,
   "metadata": {},
   "outputs": [
    {
     "data": {
      "text/plain": [
       "0.609782473434761"
      ]
     },
     "execution_count": 73,
     "metadata": {},
     "output_type": "execute_result"
    }
   ],
   "source": [
    "roc_auc_score(y_test,y_pre)"
   ]
  },
  {
   "cell_type": "code",
   "execution_count": 69,
   "metadata": {},
   "outputs": [
    {
     "data": {
      "text/plain": [
       "652"
      ]
     },
     "execution_count": 69,
     "metadata": {},
     "output_type": "execute_result"
    }
   ],
   "source": [
    "sum(y_pre)"
   ]
  },
  {
   "cell_type": "code",
   "execution_count": null,
   "metadata": {
    "collapsed": true
   },
   "outputs": [],
   "source": []
  }
 ],
 "metadata": {
  "kernelspec": {
   "display_name": "tensorflow",
   "language": "python",
   "name": "tensorflow"
  },
  "language_info": {
   "codemirror_mode": {
    "name": "ipython",
    "version": 3
   },
   "file_extension": ".py",
   "mimetype": "text/x-python",
   "name": "python",
   "nbconvert_exporter": "python",
   "pygments_lexer": "ipython3",
   "version": "3.6.8"
  }
 },
 "nbformat": 4,
 "nbformat_minor": 2
}
